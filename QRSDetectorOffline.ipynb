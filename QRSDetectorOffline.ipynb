{
 "cells": [
  {
   "cell_type": "code",
   "execution_count": null,
   "metadata": {
    "collapsed": true
   },
   "outputs": [],
   "source": [
    "%matplotlib inline\n",
    "\n",
    "import numpy as np\n",
    "import matplotlib.pyplot as plt\n",
    "from scipy.signal import butter, lfilter, find_peaks_cwt"
   ]
  },
  {
   "cell_type": "code",
   "execution_count": null,
   "metadata": {
    "collapsed": true
   },
   "outputs": [],
   "source": [
    "## Tool functions.\n",
    "# Todo: refactor to use deque.\n",
    "def cycle_list(collection, update_value):\n",
    "    collection.append(update_value)\n",
    "    if len(collection) > 10:\n",
    "        collection.pop(0)"
   ]
  },
  {
   "cell_type": "code",
   "execution_count": null,
   "metadata": {
    "collapsed": true
   },
   "outputs": [],
   "source": [
    "## Signal processing.\n",
    "# Todo: refactor whole structure to have general separated from methods it is using.\n",
    "# Todo: refactory to numpy arrays\n",
    "raw_signal = []\n",
    "bandpass_signal = []\n",
    "differentiated_signal = []\n",
    "squared_signal = []\n",
    "integrated_signal = []\n",
    "delay = 0\n",
    "\n",
    "## Detection.\n",
    "fiducial_mark = []\n",
    "spki = 0.0\n",
    "npki = 0.0\n",
    "peaki = 0.0\n",
    "threshold_1 = 1.0\n",
    "threshold_2 = 0.0\n",
    "qrs_peak = []\n",
    "noise_peak = []\n",
    "rr_interval = 17\n",
    "rr_current = 0"
   ]
  },
  {
   "cell_type": "code",
   "execution_count": null,
   "metadata": {
    "collapsed": false,
    "scrolled": false
   },
   "outputs": [],
   "source": [
    "## Load and clean data.\n",
    "# Todo: refactor to function and call it in __main__\n",
    "with open(\"data/pulse1.csv\") as f:\n",
    "    content = f.readlines()\n",
    "\n",
    "for line in content:\n",
    "    raw_signal.append(float(line.rstrip().split(';')[1]))\n",
    "    \n",
    "plt.figure(figsize=(15,4))\n",
    "plt.plot(raw_signal, label=\"Original signal\")\n",
    "plt.grid(True)\n",
    "plt.axis(\"tight\")"
   ]
  },
  {
   "cell_type": "code",
   "execution_count": null,
   "metadata": {
    "collapsed": false
   },
   "outputs": [],
   "source": [
    "## Signal processing - pass band 5-15 Hz.\n",
    "# Todo: move filtering parameters to separate section.\n",
    "# Todo: refactor names like nyq to be more meaningful (e.g. nyquist_freq)\n",
    "def butter_bandpass(lowcut, highcut, fs, order=5):\n",
    "    nyq = 0.5 * fs\n",
    "    low = lowcut / nyq\n",
    "    high = highcut / nyq\n",
    "    b, a = butter(order, [low, high], btype='band')\n",
    "    return b, a\n",
    "\n",
    "def butter_bandpass_filter(data, lowcut, highcut, fs, order=5):\n",
    "    b, a = butter_bandpass(lowcut, highcut, fs, order=order)\n",
    "    y = lfilter(b, a, data)\n",
    "    return y\n",
    "\n",
    "fs = 84.0\n",
    "lowcut = 5.0\n",
    "highcut = 15.0\n",
    "bandpass_signal = butter_bandpass_filter(raw_signal, lowcut, highcut, fs, order=1)\n",
    "\n",
    "plt.figure(figsize=(15,4))\n",
    "plt.plot(bandpass_signal, label=\"Bandpass signal\")\n",
    "plt.grid(True)\n",
    "plt.axis(\"tight\")"
   ]
  },
  {
   "cell_type": "code",
   "execution_count": null,
   "metadata": {
    "collapsed": false
   },
   "outputs": [],
   "source": [
    "## Derivative - provide QRS slope info - five point derivative with 1 sample delay.\n",
    "differentiated_signal = np.diff(bandpass_signal)\n",
    "# Todo: check whether these results should be normalized.\n",
    "# differentiated_signal = differentiated_signal / max(differentiated_signal)\n",
    "\n",
    "plt.figure(figsize=(15,4))\n",
    "plt.plot(differentiated_signal, label=\"Differentiated signal\")\n",
    "plt.grid(True)\n",
    "plt.axis(\"tight\")"
   ]
  },
  {
   "cell_type": "code",
   "execution_count": null,
   "metadata": {
    "collapsed": false
   },
   "outputs": [],
   "source": [
    "## Squaring - signal is squared point by point.\n",
    "# Todo: use numpy array vectorized operation to do this squaring.\n",
    "for sample in differentiated_signal:\n",
    "    squared_signal.append(sample**2)\n",
    "# Todo: check whether normalization should be here.\n",
    "# Todo: normalize using numpy function.\n",
    "squared_signal = squared_signal / max(squared_signal)\n",
    "\n",
    "plt.figure(figsize=(15,4))\n",
    "plt.plot(squared_signal, label=\"Squared signal\")\n",
    "plt.grid(True)\n",
    "plt.axis(\"tight\")"
   ]
  },
  {
   "cell_type": "code",
   "execution_count": null,
   "metadata": {
    "collapsed": false
   },
   "outputs": [],
   "source": [
    "## Moving-window integration - to obtain waveform feature information in addition to the slope.\n",
    "## Time window should be of the length of longest possible QRS complex - 30 samples (150 ms) for 200 samples/s.\n",
    "# Todo: check window length\n",
    "# Todo: dynamic window length based on frequency - first check if freq can be dynamic or can be bigger or smaller\n",
    "N = 12\n",
    "integrated_signal = np.convolve(squared_signal, np.ones((N,))/N)\n",
    "# Todo: check whether result should be normalized.\n",
    "#integratedSignal = integratedSignal / max(integratedSignal) \n",
    "\n",
    "plt.figure(figsize=(15,4))\n",
    "plt.plot(integrated_signal, label=\"Integrated signal\")\n",
    "plt.grid(True)\n",
    "plt.axis(\"tight\")"
   ]
  },
  {
   "cell_type": "code",
   "execution_count": null,
   "metadata": {
    "collapsed": false
   },
   "outputs": [],
   "source": [
    "## Fiducial mark - peak detection.\n",
    "# Todo: investigate usage of find_peaks_cwt\n",
    "peaks_indices = find_peaks_cwt(integrated_signal, np.arange(10, 15), noise_perc=0.1)\n",
    "for peak_index in peaks_indices:\n",
    "    fiducial_mark.append((peak_index, integrated_signal[peak_index]))\n",
    "\n",
    "fiducial_mark_indication = [0] * len(integrated_signal)\n",
    "for peak in fiducial_mark:\n",
    "    fiducial_mark_indication[peak[0]] = 1.0\n",
    "plt.figure(figsize=(15,4))\n",
    "plt.plot(fiducial_mark_indication, label='Fiducial signal')\n",
    "plt.grid(True)\n",
    "plt.axis('tight')"
   ]
  },
  {
   "cell_type": "markdown",
   "metadata": {},
   "source": [
    "### Control final values for 'pulse3.csv':\n",
    "\n",
    "- noise - peak: 0.162209, npki: 0.020276, threshold1: 1.000000\n",
    "- pulse - peak: 0.175415, spki: 0.021927, threshold1: 0.015207\n",
    "- pulse - peak: 0.185014, spki: 0.042313, threshold1: 0.020689\n",
    "- pulse - peak: 0.167958, spki: 0.058018, threshold1: 0.025785\n",
    "- pulse - peak: 0.167736, spki: 0.071733, threshold1: 0.029712\n",
    "- pulse - peak: 0.179816, spki: 0.085244, threshold1: 0.033140"
   ]
  },
  {
   "cell_type": "code",
   "execution_count": null,
   "metadata": {
    "collapsed": false
   },
   "outputs": [],
   "source": [
    "## Thresholding detect peaks.\n",
    "for peak in fiducial_mark:\n",
    "    if peak[1] > threshold_1:\n",
    "        qrs_peak.append(peak[0])\n",
    "        spki = 0.125 * peak[1] + 0.875 * spki\n",
    "        print \"pulse - peak: %f, spki: %f, threshold1: %f\" % (peak[1], spki, threshold_1)\n",
    "    else:\n",
    "        noise_peak.append(peak[0])\n",
    "        npki = 0.125 * peak[1] + 0.875 * npki\n",
    "        print \"noise - peak: %f, npki: %f, threshold1: %f\" % (peak[1], npki, threshold_1)\n",
    "    threshold_1 = npki + 0.25 * (spki - npki)\n",
    "    threshold_2 = 0.5 * threshold_1\n",
    "\n",
    "qrs_peak_indication = [0] * len(integrated_signal)\n",
    "for peak in qrs_peak:\n",
    "    qrs_peak_indication[peak] = 1.0\n",
    "plt.figure(figsize=(15,4))\n",
    "plt.plot(qrs_peak_indication, label='QRS peak')\n",
    "plt.grid(True)\n",
    "plt.axis('tight')\n",
    "\n",
    "noise_peak_indication = [0] * len(integrated_signal)\n",
    "for peak in noise_peak:\n",
    "    noise_peak_indication[peak] = 1.0\n",
    "plt.figure(figsize=(15,4))\n",
    "plt.plot(noise_peak_indication, label='Noise peak')\n",
    "plt.grid(True)\n",
    "plt.axis('tight')"
   ]
  },
  {
   "cell_type": "code",
   "execution_count": null,
   "metadata": {
    "collapsed": false,
    "scrolled": false
   },
   "outputs": [],
   "source": [
    "## Plot everything.\n",
    "plt.figure(figsize=(15,18))\n",
    "plt.subplot(811)\n",
    "plt.plot(raw_signal, label=\"Original signal\")\n",
    "plt.grid(True)\n",
    "plt.axis(\"tight\")\n",
    "\n",
    "plt.subplot(812)\n",
    "plt.plot(bandpass_signal, label=\"Bandpass signal\")\n",
    "plt.grid(True)\n",
    "plt.axis(\"tight\")\n",
    "\n",
    "plt.subplot(813)\n",
    "plt.plot(differentiated_signal, label=\"Differentiated signal\")\n",
    "plt.grid(True)\n",
    "plt.axis(\"tight\")\n",
    "\n",
    "plt.subplot(814)\n",
    "plt.plot(squared_signal, label=\"Squared signal\")\n",
    "plt.grid(True)\n",
    "plt.axis(\"tight\")\n",
    "\n",
    "plt.subplot(815)\n",
    "plt.plot(integrated_signal, label=\"Integrated signal\")\n",
    "plt.grid(True)\n",
    "plt.axis(\"tight\")\n",
    "\n",
    "fiducial_mark_indication = [0] * len(integrated_signal)\n",
    "for peak in fiducial_mark:\n",
    "    fiducial_mark_indication[peak[0]] = 1.0\n",
    "plt.subplot(816)\n",
    "plt.plot(fiducial_mark_indication, label='Fiducial signal')\n",
    "plt.grid(True)\n",
    "plt.axis('tight')\n",
    "\n",
    "qrs_peak_indication = [0] * len(integrated_signal)\n",
    "for peak in qrs_peak:\n",
    "    qrs_peak_indication[peak] = 1.0\n",
    "plt.subplot(817)\n",
    "plt.plot(qrs_peak_indication, label='QRS peak')\n",
    "plt.grid(True)\n",
    "plt.axis('tight')\n",
    "\n",
    "noise_peak_indication = [0] * len(integrated_signal)\n",
    "for peak in noise_peak:\n",
    "    noise_peak_indication[peak] = 1.0\n",
    "plt.subplot(818)\n",
    "plt.plot(noise_peak_indication, label='Noise peak')\n",
    "plt.grid(True)\n",
    "plt.axis('tight')\n",
    "plt.show()  "
   ]
  }
 ],
 "metadata": {
  "kernelspec": {
   "display_name": "Python 2",
   "language": "python",
   "name": "python2"
  },
  "language_info": {
   "codemirror_mode": {
    "name": "ipython",
    "version": 2
   },
   "file_extension": ".py",
   "mimetype": "text/x-python",
   "name": "python",
   "nbconvert_exporter": "python",
   "pygments_lexer": "ipython2",
   "version": "2.7.11"
  }
 },
 "nbformat": 4,
 "nbformat_minor": 0
}
